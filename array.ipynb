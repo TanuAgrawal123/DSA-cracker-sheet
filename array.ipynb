{
 "cells": [
  {
   "cell_type": "markdown",
   "metadata": {},
   "source": [
    "### Move all negative numbers to beginning and positive to end with constant extra space\n",
    "##### Order does not matter\n",
    "###### quick sort approach T(n), T(1)"
   ]
  },
  {
   "cell_type": "code",
   "execution_count": 13,
   "metadata": {},
   "outputs": [
    {
     "name": "stdout",
     "output_type": "stream",
     "text": [
      "7 3 -10 8 11 -5 -10 -3 8 7\n",
      "[-10, -5, -10, -3, 11, 3, 7, 8, 8, 7]\n"
     ]
    }
   ],
   "source": [
    "L=[int(i) for i in input().split(\" \")]\n",
    "import sys\n",
    "low=0\n",
    "N=len(L)\n",
    "for i in range(N):\n",
    "    if L[i]<0:\n",
    "        L[i],L[low]=L[low],L[i]\n",
    "        low+=1\n",
    "        \n",
    "\n",
    "print(L)\n",
    "        \n"
   ]
  },
  {
   "cell_type": "markdown",
   "metadata": {},
   "source": [
    "## JUMP GAME"
   ]
  },
  {
   "cell_type": "markdown",
   "metadata": {},
   "source": [
    "##### The task is to find the minimum number of jumps to reach the end of the array (starting from the first element) if we cann't reach end return -1\n",
    "###### TC= 0(N)"
   ]
  },
  {
   "cell_type": "code",
   "execution_count": 2,
   "metadata": {},
   "outputs": [
    {
     "name": "stdout",
     "output_type": "stream",
     "text": [
      "1\n",
      "12\n",
      "10 9 12 3 4 8 0 0 0 0 0 1\n",
      "2\n"
     ]
    }
   ],
   "source": [
    "#code\n",
    "import sys\n",
    "def jump(nums):\n",
    "    res=[0]*len(nums)\n",
    "    N=len(nums)\n",
    "    des=0\n",
    "    pos=0\n",
    "    jump=0\n",
    "    for i in range(N-1):\n",
    "        # findin maximum index it can reach from every index\n",
    "        des=max(des, nums[i]+i)\n",
    "        # jumping only when we reach max des\n",
    "        if pos==i:\n",
    "            # condition when no case is posible to reach end\n",
    "            if nums[i]==0 and pos==des:\n",
    "                return -1\n",
    "            pos=des\n",
    "            jump+=1\n",
    "    return jump\n",
    "    \n",
    "            \n",
    "T=int(input())\n",
    "while(T):\n",
    "    N=int(input())\n",
    "    nums=[int(i) for i in input().split()]\n",
    "    print(jump(nums))\n",
    "    T-=1\n",
    "    \n",
    "   "
   ]
  },
  {
   "cell_type": "code",
   "execution_count": null,
   "metadata": {},
   "outputs": [],
   "source": []
  }
 ],
 "metadata": {
  "kernelspec": {
   "display_name": "Python 3",
   "language": "python",
   "name": "python3"
  },
  "language_info": {
   "codemirror_mode": {
    "name": "ipython",
    "version": 3
   },
   "file_extension": ".py",
   "mimetype": "text/x-python",
   "name": "python",
   "nbconvert_exporter": "python",
   "pygments_lexer": "ipython3",
   "version": "3.8.3"
  }
 },
 "nbformat": 4,
 "nbformat_minor": 4
}
