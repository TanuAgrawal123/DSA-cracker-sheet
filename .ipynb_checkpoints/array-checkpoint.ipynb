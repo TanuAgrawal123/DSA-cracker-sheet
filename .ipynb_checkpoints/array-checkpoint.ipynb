{
 "cells": [
  {
   "cell_type": "markdown",
   "metadata": {},
   "source": [
    "### Move all negative numbers to beginning and positive to end with constant extra space\n",
    "##### Order does not matter\n",
    "###### quick sort approach T(n), T(1)"
   ]
  },
  {
   "cell_type": "code",
   "execution_count": 13,
   "metadata": {},
   "outputs": [
    {
     "name": "stdout",
     "output_type": "stream",
     "text": [
      "7 3 -10 8 11 -5 -10 -3 8 7\n",
      "[-10, -5, -10, -3, 11, 3, 7, 8, 8, 7]\n"
     ]
    }
   ],
   "source": [
    "L=[int(i) for i in input().split(\" \")]\n",
    "import sys\n",
    "low=0\n",
    "N=len(L)\n",
    "for i in range(N):\n",
    "    if L[i]<0:\n",
    "        L[i],L[low]=L[low],L[i]\n",
    "        low+=1\n",
    "        \n",
    "\n",
    "print(L)\n",
    "        \n"
   ]
  },
  {
   "cell_type": "code",
   "execution_count": null,
   "metadata": {},
   "outputs": [],
   "source": []
  },
  {
   "cell_type": "code",
   "execution_count": null,
   "metadata": {},
   "outputs": [],
   "source": []
  }
 ],
 "metadata": {
  "kernelspec": {
   "display_name": "Python 3",
   "language": "python",
   "name": "python3"
  },
  "language_info": {
   "codemirror_mode": {
    "name": "ipython",
    "version": 3
   },
   "file_extension": ".py",
   "mimetype": "text/x-python",
   "name": "python",
   "nbconvert_exporter": "python",
   "pygments_lexer": "ipython3",
   "version": "3.8.3"
  }
 },
 "nbformat": 4,
 "nbformat_minor": 4
}
