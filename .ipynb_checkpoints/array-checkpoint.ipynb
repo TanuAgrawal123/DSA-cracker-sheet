{
 "cells": [
  {
   "cell_type": "markdown",
   "metadata": {},
   "source": [
    "### Move all negative numbers to beginning and positive to end with constant extra space\n",
    "##### Order does not matter\n",
    "###### quick sort approach T(n), T(1)"
   ]
  },
  {
   "cell_type": "code",
   "execution_count": 13,
   "metadata": {},
   "outputs": [
    {
     "name": "stdout",
     "output_type": "stream",
     "text": [
      "7 3 -10 8 11 -5 -10 -3 8 7\n",
      "[-10, -5, -10, -3, 11, 3, 7, 8, 8, 7]\n"
     ]
    }
   ],
   "source": [
    "L=[int(i) for i in input().split(\" \")]\n",
    "import sys\n",
    "low=0\n",
    "N=len(L)\n",
    "for i in range(N):\n",
    "    if L[i]<0:\n",
    "        L[i],L[low]=L[low],L[i]\n",
    "        low+=1\n",
    "        \n",
    "\n",
    "print(L)\n",
    "        \n"
   ]
  },
  {
   "cell_type": "markdown",
   "metadata": {},
   "source": [
    "## JUMP GAME"
   ]
  },
  {
   "cell_type": "markdown",
   "metadata": {},
   "source": [
    "##### The task is to find the minimum number of jumps to reach the end of the array (starting from the first element) if we cann't reach end return -1\n",
    "###### TC= 0(N)"
   ]
  },
  {
   "cell_type": "code",
   "execution_count": 2,
   "metadata": {},
   "outputs": [
    {
     "name": "stdout",
     "output_type": "stream",
     "text": [
      "1\n",
      "12\n",
      "10 9 12 3 4 8 0 0 0 0 0 1\n",
      "2\n"
     ]
    }
   ],
   "source": [
    "#code\n",
    "import sys\n",
    "def jump(nums):\n",
    "    res=[0]*len(nums)\n",
    "    N=len(nums)\n",
    "    des=0\n",
    "    pos=0\n",
    "    jump=0\n",
    "    for i in range(N-1):\n",
    "        # findin maximum index it can reach from every index\n",
    "        des=max(des, nums[i]+i)\n",
    "        # jumping only when we reach max des\n",
    "        if pos==i:\n",
    "            # condition when no case is posible to reach end\n",
    "            if nums[i]==0 and pos==des:\n",
    "                return -1\n",
    "            pos=des\n",
    "            jump+=1\n",
    "    return jump\n",
    "    \n",
    "            \n",
    "T=int(input())\n",
    "while(T):\n",
    "    N=int(input())\n",
    "    nums=[int(i) for i in input().split()]\n",
    "    print(jump(nums))\n",
    "    T-=1\n",
    "    \n",
    "   "
   ]
  },
  {
   "cell_type": "markdown",
   "metadata": {},
   "source": [
    "## Merge sorted arrays without extra space\n",
    "### gap method\n",
    "##### O((n+m)*log(n+m)) "
   ]
  },
  {
   "cell_type": "code",
   "execution_count": 1,
   "metadata": {},
   "outputs": [],
   "source": [
    "\n",
    "class Solution:\n",
    "    def nextgap(self,gap):\n",
    "        if gap<=1:\n",
    "            return 0\n",
    "        return gap//2+gap%2    \n",
    "    def merge(self, arr1, arr2, n, m): \n",
    "       \n",
    "        gap=n+m\n",
    "        gap=self.nextgap(gap)\n",
    "        while(gap>0):\n",
    "            i=0\n",
    "            while(i+gap<n):\n",
    "                if arr1[i]>arr1[i+gap]:\n",
    "                    arr1[i],arr1[i+gap]=arr1[i+gap],arr1[i]\n",
    "                i+=1\n",
    "            j=gap-n if gap>n else 0\n",
    "            while(i<n and j<m):\n",
    "                if arr1[i]>arr2[j]:\n",
    "                    arr1[i],arr2[j]=arr2[j],arr1[i]\n",
    "                i+=1\n",
    "                j+=1\n",
    "            if (j<m):\n",
    "                j=0\n",
    "                while(j+gap<m):\n",
    "                    if arr2[j]>arr2[j+gap]:\n",
    "                        arr2[j],arr2[j+gap]=arr2[j+gap],arr2[j]\n",
    "                    j+=1\n",
    "            gap=self.nextgap(gap)\n",
    "        "
   ]
  },
  {
   "cell_type": "code",
   "execution_count": 2,
   "metadata": {},
   "outputs": [
    {
     "name": "stdout",
     "output_type": "stream",
     "text": [
      "[0, 1, 2, 3, 4, 5, 7, 8]\n"
     ]
    }
   ],
   "source": [
    "arr1=[0, 2, 4, 7]\n",
    "arr2=[1, 3, 5, 8]\n",
    "n=4\n",
    "m=4\n",
    "Sol=Solution()\n",
    "Sol.merge(arr1, arr2, n, m)\n",
    "print(arr1+arr2)\n"
   ]
  },
  {
   "cell_type": "markdown",
   "metadata": {},
   "source": [
    "## Minimize the maximum difference between the heights\n",
    "#### Tc =0(n)"
   ]
  },
  {
   "cell_type": "code",
   "execution_count": 4,
   "metadata": {},
   "outputs": [
    {
     "name": "stdout",
     "output_type": "stream",
     "text": [
      "1\n",
      "4\n",
      "4\n",
      "1 5 8 10\n",
      "5\n"
     ]
    }
   ],
   "source": [
    "#User function Template for python3\n",
    "\n",
    "class Solution:\n",
    "    def getMinDiff(self, arr, n, k):\n",
    "        arr.sort()\n",
    "        if n==1:\n",
    "            return 0\n",
    "        ans=arr[n-1]-arr[0]\n",
    "        small=arr[0]+k\n",
    "        big=arr[n-1]-k\n",
    "        \n",
    "        if small>big:\n",
    "            big,small=small, big\n",
    "        for i in range(1,n-1):\n",
    "            add=arr[i]+k\n",
    "            subtract=arr[i]-k\n",
    "            # if subtraction or addition does not make change in diff\n",
    "            if subtract>=small or add<=big:\n",
    "                continue\n",
    "            # selecting any one which ive min height\n",
    "            if big-subtract<=add-small:\n",
    "                small=subtract\n",
    "            else:\n",
    "                big=add\n",
    "        return min(ans,big-small)\n",
    "\n",
    "if __name__ == '__main__':\n",
    "    tc = int(input())\n",
    "    while tc > 0:\n",
    "        k = int(input())\n",
    "        n = int(input())\n",
    "        arr = [int(i) for i in input().split()]\n",
    "        ob = Solution()\n",
    "        ans = ob.getMinDiff(arr, n, k)\n",
    "        print(ans)\n",
    "        tc -= 1\n",
    "\n"
   ]
  },
  {
   "cell_type": "markdown",
   "metadata": {},
   "source": [
    "### Next Permutation\n",
    "##### Implement next permutation, which rearranges numbers into the lexicographically next greater permutation of numbers.\n",
    "###### Tc=O(N)"
   ]
  },
  {
   "cell_type": "code",
   "execution_count": 3,
   "metadata": {},
   "outputs": [
    {
     "name": "stdout",
     "output_type": "stream",
     "text": [
      "1 4 5 3 2\n",
      "[1, 5, 2, 3, 4]\n"
     ]
    }
   ],
   "source": [
    "nums=[int(i) for i in input().split()]\n",
    "if len(nums)==0:\n",
    "        print(\"not possible\")\n",
    "else:\n",
    "    n=len(nums)\n",
    "    # findin breakpoint\n",
    "    for i in range(n-2, -1, -1):\n",
    "        if nums[i]>=nums[i+1]:\n",
    "            pass\n",
    "        else:\n",
    "            break\n",
    "    if i>=0:\n",
    "        j=n-1\n",
    "        while(nums[j]<=nums[i]):\n",
    "            j-=1\n",
    "        nums[i],nums[j]=nums[j],nums[i]\n",
    "    # reversing\n",
    "    i+=1\n",
    "    j=n-1\n",
    "    while(i<j):\n",
    "        nums[i], nums[j]=nums[j], nums[i]\n",
    "        i+=1\n",
    "        j-=1\n",
    "    print(nums)\n",
    "        \n",
    "    \n",
    "            \n",
    "    \n",
    "    "
   ]
  },
  {
   "cell_type": "markdown",
   "metadata": {},
   "source": [
    "### Given an array of positive integers. The task is to find inversion count of array.\n",
    "##### For an array, inversion count indicates how far (or close) the array is from being sorted. If array is already sorted then inversion count is 0.\n",
    "###### Tc=O(NlogN)"
   ]
  },
  {
   "cell_type": "code",
   "execution_count": 4,
   "metadata": {},
   "outputs": [
    {
     "name": "stdout",
     "output_type": "stream",
     "text": [
      "1\n",
      "4\n",
      "1 3 2 4\n",
      "1\n"
     ]
    }
   ],
   "source": [
    "#code\n",
    "def mergesort(temp, nums, l,r):\n",
    "    if l>=r:\n",
    "        return 0\n",
    "    countinversion=0\n",
    "    \n",
    "    mid=(l+r)//2\n",
    "    countinversion+=mergesort(temp, nums,l ,mid)\n",
    "    countinversion+=mergesort(temp, nums ,mid+1, r)\n",
    "    countinversion+=merge(temp, nums, l,mid,r)\n",
    "    return countinversion\n",
    "def merge(temp, nums, l, mid, r):\n",
    "    i=l\n",
    "    j=mid+1\n",
    "    k=l\n",
    "    inversioncount=0\n",
    "    while(i<=mid and j<=r):\n",
    "        if nums[i]<=nums[j]:\n",
    "            temp[k]=nums[i]\n",
    "            k+=1\n",
    "            i+=1\n",
    "        else:\n",
    "            temp[k]=nums[j]\n",
    "            k+=1\n",
    "            inversioncount+=mid-i+1\n",
    "            j+=1\n",
    "            \n",
    "    while(i<=mid):\n",
    "        temp[k]=nums[i]\n",
    "        i+=1\n",
    "        k+=1\n",
    "    while(j<=r):\n",
    "        temp[k]=nums[j]\n",
    "        k+=1\n",
    "        j+=1\n",
    "    for i in range(l, r+1,1):\n",
    "        nums[i]=temp[i]\n",
    "    return inversioncount\n",
    "    \n",
    "    \n",
    "    \n",
    "T=int(input())\n",
    "while(T):\n",
    "    N=int(input())\n",
    "    nums=[int(i) for i in input().split()]\n",
    "    temp=[0]*N\n",
    "    if N<=1:\n",
    "        print(0)\n",
    "        T-=1\n",
    "        continue\n",
    "    print(mergesort(temp, nums, 0, N-1))\n",
    "    T-=1"
   ]
  },
  {
   "cell_type": "markdown",
   "metadata": {},
   "source": [
    "#### Factorials of large numbers"
   ]
  },
  {
   "cell_type": "code",
   "execution_count": 1,
   "metadata": {},
   "outputs": [
    {
     "name": "stdout",
     "output_type": "stream",
     "text": [
      "3\n",
      "5\n",
      "120\n",
      "10\n",
      "3628800\n",
      "2\n",
      "2\n"
     ]
    }
   ],
   "source": [
    "import sys\n",
    "def multiply(L,res_size, x):\n",
    "    carry=0\n",
    "    i=0\n",
    "    while(i<res_size):\n",
    "        product=L[i]*x +carry\n",
    "        L[i]=product%10\n",
    "        carry=product//10\n",
    "        i+=1\n",
    "    while(carry):\n",
    "        L[res_size]=carry%10\n",
    "        carry=carry//10\n",
    "        res_size=res_size+1\n",
    "    return res_size\n",
    "T=int(input())\n",
    "while(T):\n",
    "    N=int(input())\n",
    "    L=[0]*3000\n",
    "    L[0]=1\n",
    "    res_size=1\n",
    "    x=2\n",
    "    while(x<=N):\n",
    "        res_size=multiply(L,res_size,x)\n",
    "        x+=1\n",
    "    i = res_size-1\n",
    "    while i >= 0 : \n",
    "        sys.stdout.write(str(L[i])) \n",
    "        sys.stdout.flush() \n",
    "        i = i - 1\n",
    "    print()\n",
    "          \n",
    "    T-=1\n"
   ]
  },
  {
   "cell_type": "markdown",
   "metadata": {},
   "source": [
    "### Given an array of size n and a number k, find all elements that appear more than n/k times\n",
    "##### Tc=O(nk)  SC=O(k)\n",
    "###### we can use hashing in 0(n) time pr it will required more space the O(k)\n"
   ]
  },
  {
   "cell_type": "code",
   "execution_count": 5,
   "metadata": {},
   "outputs": [
    {
     "name": "stdout",
     "output_type": "stream",
     "text": [
      "7\n",
      "4 5 6 7 8 4 4\n",
      "3\n",
      "ele 4\n",
      "count 3\n"
     ]
    }
   ],
   "source": [
    "N=int(input())\n",
    "L=[int(i) for i in input().split()]\n",
    "k=int(input())\n",
    "#there can be at most k-1 element greater than N//k \n",
    "temp=[[0 for i in range(2)] for j in range(k-1)]\n",
    "\n",
    "for i in range(N):\n",
    "    j=0\n",
    "    # if element is already present increment is count\n",
    "    while(j<k-1):\n",
    "        if temp[j][0]==L[i]:\n",
    "            temp[j][1]+=1\n",
    "            break\n",
    "        j+=1\n",
    "    # if element is not present\n",
    "    if j==k-1:\n",
    "        l=0\n",
    "        #if there is empty space in temp then add element at first empty space and set its countvalue 1\n",
    "        while(l<k-1):\n",
    "            if temp[l][1]==0:\n",
    "                temp[l][0]=L[i]\n",
    "                temp[l][1]=1\n",
    "                break\n",
    "            l+=1\n",
    "        # no empty space then decrement count all values of tem and ignore current ele\n",
    "        if l==k-1:\n",
    "            l=0\n",
    "            while(l<k-1):\n",
    "                temp[l][1]-=1\n",
    "                l+=1\n",
    "\n",
    "for i in range(k-1):\n",
    "    count=0\n",
    "    for j in range(N):\n",
    "        if L[j]==temp[i][0]:\n",
    "            count+=1\n",
    "    if count>N//k:\n",
    "        print(\"ele\", temp[i][0])\n",
    "        print(\"count\", count)\n",
    "\n",
    "        \n",
    "                \n",
    "                \n",
    "\n",
    "\n",
    "\n",
    "                \n",
    "    \n",
    "    \n",
    "\n",
    "     "
   ]
  },
  {
   "cell_type": "markdown",
   "metadata": {},
   "source": [
    " "
   ]
  }
 ],
 "metadata": {
  "kernelspec": {
   "display_name": "Python 3",
   "language": "python",
   "name": "python3"
  },
  "language_info": {
   "codemirror_mode": {
    "name": "ipython",
    "version": 3
   },
   "file_extension": ".py",
   "mimetype": "text/x-python",
   "name": "python",
   "nbconvert_exporter": "python",
   "pygments_lexer": "ipython3",
   "version": "3.8.3"
  }
 },
 "nbformat": 4,
 "nbformat_minor": 4
}
