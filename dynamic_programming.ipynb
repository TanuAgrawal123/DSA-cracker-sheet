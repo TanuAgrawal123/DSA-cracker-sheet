{
 "cells": [
  {
   "cell_type": "markdown",
   "metadata": {},
   "source": [
    "### Binomial Coefficient Problem\n",
    "#### Given two integers n and r, find nCr. Since the answer may be very large, calculate the answer modulo 109+7."
   ]
  },
  {
   "cell_type": "code",
   "execution_count": 1,
   "metadata": {},
   "outputs": [
    {
     "name": "stdout",
     "output_type": "stream",
     "text": [
      "1\n",
      "5 2\n",
      "10\n"
     ]
    }
   ],
   "source": [
    "\n",
    "class Solution:\n",
    "    def nCr(self,n, r):\n",
    "        p=1000000007\n",
    "        num = den = 1\n",
    "        for i in range(r):\n",
    "            num = (num * (n - i)) % p\n",
    "            num = (num * pow((i+1),p-2)) % p\n",
    "        return num % p \n",
    "  \n",
    " \n",
    "\n",
    "\n",
    "if __name__ == '__main__':\n",
    "    t = int(input())\n",
    "    for _ in range(t):\n",
    "        n, r = [int(x) for x in input().split()]\n",
    "        \n",
    "        ob = Solution()\n",
    "        print(ob.nCr(n, r))"
   ]
  },
  {
   "cell_type": "markdown",
   "metadata": {},
   "source": [
    "## nth catalan no\n",
    "##### for n=0 ,1,2,3.... catalan no are 1,1,2,5,14.....\n",
    "###### revise its application"
   ]
  },
  {
   "cell_type": "markdown",
   "metadata": {},
   "source": [
    "#### Formula\n",
    "######  C(n+1)=Σ(i=0 to n)(Ci*C(n-i) for n>=0\n",
    "or\n",
    "###### C(n)=2nCn/(n+1) \n",
    "or\n",
    "###### C(n)=(2n)!/((n+1)!n!)\n"
   ]
  },
  {
   "cell_type": "markdown",
   "metadata": {},
   "source": [
    "###### Dp program for finding nth catalan no"
   ]
  },
  {
   "cell_type": "code",
   "execution_count": 3,
   "metadata": {},
   "outputs": [
    {
     "name": "stdout",
     "output_type": "stream",
     "text": [
      "5\n",
      "42\n"
     ]
    }
   ],
   "source": [
    "n=int(input())\n",
    "res=[0]*(n+1)\n",
    "res[0]=1\n",
    "res[1]=1\n",
    "for i in range(2,n+1):\n",
    "    res[i]=0\n",
    "    for j in range(i):\n",
    "        \n",
    "        res[i]+=res[j]*res[i-j-1]\n",
    "print(res[n])\n",
    "        \n",
    "    "
   ]
  },
  {
   "cell_type": "code",
   "execution_count": 9,
   "metadata": {},
   "outputs": [
    {
     "name": "stdout",
     "output_type": "stream",
     "text": [
      "5\n",
      "42\n"
     ]
    }
   ],
   "source": [
    "def binomialcoff(n,r):\n",
    "    res=1\n",
    "    for i in range(r):\n",
    "        res*=(n-i)\n",
    "        res//=(i+1)\n",
    "    return res\n",
    "n=int(input())\n",
    "c=binomialcoff(2*n,n)\n",
    "print (c//(n+1))\n",
    "\n",
    "#using second formula of catalan no. Tc=O(n))"
   ]
  },
  {
   "cell_type": "markdown",
   "metadata": {},
   "source": [
    "### Edit Distance\n",
    "###### Given two words word1 and word2, find the minimum number of operations required to convert word1 to word2.\n",
    "\n",
    "###### You have the following 3 operations permitted on a word:\n",
    "\n",
    "Insert a character\n",
    "Delete a character\n",
    "Replace a character"
   ]
  },
  {
   "cell_type": "code",
   "execution_count": 3,
   "metadata": {},
   "outputs": [],
   "source": [
    "class Solution:\n",
    "    def minDistance(self, word1, word2):\n",
    "        n=len(word1)\n",
    "        m=len(word2)\n",
    "        if n==0:\n",
    "            return m\n",
    "        if m==0:\n",
    "            return n\n",
    "        table=[[0 for i in range(n+1)] for j in range(m+1)]\n",
    "        for i in range(m+1):\n",
    "            for j in range(n+1):\n",
    "                if i==0:\n",
    "                    table[i][j]=j\n",
    "                elif j==0:\n",
    "                    table[i][j]=i\n",
    "                else:\n",
    "                    if word1[j-1]==word2[i-1]:\n",
    "                        table[i][j]=table[i-1][j-1]\n",
    "                    else:\n",
    "                        table[i][j]=1+min(table[i][j-1], table[i-1][j], table[i-1][j-1])\n",
    "       \n",
    "        return table[m][n]\n"
   ]
  },
  {
   "cell_type": "code",
   "execution_count": 5,
   "metadata": {},
   "outputs": [
    {
     "data": {
      "text/plain": [
       "3"
      ]
     },
     "execution_count": 5,
     "metadata": {},
     "output_type": "execute_result"
    }
   ],
   "source": [
    "S=Solution()\n",
    "S.minDistance(\"sunday\", \"saturday\")"
   ]
  },
  {
   "cell_type": "markdown",
   "metadata": {},
   "source": [
    "### Gold Mine Problem\n",
    "###### Given a gold mine of n*m dimensions. Each field in this mine contains a positive integer which is the amount of gold in tons. Initially the miner is at first column but can be at any row. He can move only (right->,right up /,right down\\) that is from a given cell, the miner can move to the cell diagonally up towards the right or right or diagonally down towards the right. "
   ]
  },
  {
   "cell_type": "code",
   "execution_count": 1,
   "metadata": {},
   "outputs": [
    {
     "name": "stdout",
     "output_type": "stream",
     "text": [
      "83\n"
     ]
    }
   ],
   "source": [
    "def printgold(row,col, table, gold, maxgold):\n",
    "    \n",
    "    \n",
    "    val=[-1,1,0]\n",
    "   \n",
    "    maxval=0\n",
    "    for i in range(3):\n",
    "        if col+1==n-1 and row+val[i]>=0 and row+val[i]<=m-1:\n",
    "            table[row][col]=gold[row][col]+ gold[row+val[i]][col+1]\n",
    "        elif  row+val[i]<m and row+val[i]>=0 and col+1<n:\n",
    "            if table[row+val[i]][col+1]==-1:\n",
    "                table[row][col]=gold[row][col]+printgold(row+val[i], col+1, table, gold, maxgold)\n",
    "            else:\n",
    "                table[row][col]=gold[row][col]+table[row+val[i]][col+1]\n",
    "        if maxval<table[row][col]:\n",
    "            maxval=table[row][col]\n",
    "    table[row][col]=maxval    \n",
    "    return maxval\n",
    "            \n",
    "gold = [[10, 33, 13, 15],\n",
    "        [22, 21, 4, 1],\n",
    "        [5, 0, 2, 3],\n",
    "        [0, 6, 14, 2]]\n",
    "m = 4\n",
    "n = 4\n",
    "table=[[-1 for i in range(m)] for j in range(n)]\n",
    "maxgold=0\n",
    "globalmax=0\n",
    "for i in range(0,m):\n",
    "    \n",
    "    \n",
    "    maxgold=printgold(i,0, table, gold, 0)\n",
    "   \n",
    "    \n",
    "    if maxgold>globalmax:\n",
    "        globalmax=maxgold\n",
    "print(globalmax)\n",
    "\n",
    "            \n",
    "            \n",
    "        \n",
    "        \n",
    "    "
   ]
  },
  {
   "cell_type": "markdown",
   "metadata": {},
   "source": [
    "### Friends Pairing Problem "
   ]
  },
  {
   "cell_type": "code",
   "execution_count": 1,
   "metadata": {},
   "outputs": [],
   "source": [
    "class Solution:\n",
    "    def countFriendsPairings(self, n):\n",
    "        dp=[0]*(n+1)\n",
    "        for i in range(0, n+1):\n",
    "            if i<=2:\n",
    "                dp[i]=i%1000000007\n",
    "            else:\n",
    "                dp[i]=(dp[i-1]+((i-1)*dp[i-2]))%1000000007\n",
    "                # not pair # pair with i-1 \n",
    "        return dp[n]\n",
    "        \n",
    "\n"
   ]
  },
  {
   "cell_type": "code",
   "execution_count": null,
   "metadata": {},
   "outputs": [],
   "source": []
  }
 ],
 "metadata": {
  "kernelspec": {
   "display_name": "Python 3",
   "language": "python",
   "name": "python3"
  },
  "language_info": {
   "codemirror_mode": {
    "name": "ipython",
    "version": 3
   },
   "file_extension": ".py",
   "mimetype": "text/x-python",
   "name": "python",
   "nbconvert_exporter": "python",
   "pygments_lexer": "ipython3",
   "version": "3.8.3"
  }
 },
 "nbformat": 4,
 "nbformat_minor": 4
}
