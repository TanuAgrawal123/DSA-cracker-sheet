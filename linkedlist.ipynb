{
 "cells": [
  {
   "cell_type": "markdown",
   "metadata": {},
   "source": [
    "#### Linked List reversing (iterative and recursive approach)"
   ]
  },
  {
   "cell_type": "code",
   "execution_count": 27,
   "metadata": {},
   "outputs": [],
   "source": [
    "class Node:\n",
    "    def __init__(self, data):\n",
    "        self.data=data\n",
    "        self.next=None\n",
    "class LinkedList:\n",
    "    def  __init__(self):\n",
    "        self.head=None\n",
    "    # pushing element at start of linked list\n",
    "    def push(self, data):\n",
    "        temp=Node(data)\n",
    "        temp.next=self.head\n",
    "        self.head=temp\n",
    "    def __str__(self):\n",
    "        linkedListStr = \"\"\n",
    "        temp = self.head\n",
    "        while temp:\n",
    "            linkedListStr = (linkedListStr +\n",
    "                            str(temp.data) + \" \")\n",
    "            temp = temp.next\n",
    "        return linkedListStr\n",
    "    # main logic\n",
    "    def reverserecursive(self,head):\n",
    "        if head==None or head.next==None:\n",
    "            return head\n",
    "        rest=self.reverserecursive(head.next)\n",
    "        head.next.next=head\n",
    "        head.next=None\n",
    "        return rest\n",
    "    \n",
    "    def reverseiterative(self):\n",
    "        if self.head==None or self.head.next==None:\n",
    "            return head\n",
    "        prev=None\n",
    "        curr=self.head\n",
    "        next=None\n",
    "        while(curr!=None):\n",
    "            next=curr.next\n",
    "            curr.next=prev\n",
    "            \n",
    "            prev=curr\n",
    "            curr=next\n",
    "        self.head=prev\n",
    "        return self.head"
   ]
  },
  {
   "cell_type": "code",
   "execution_count": 30,
   "metadata": {},
   "outputs": [
    {
     "name": "stdout",
     "output_type": "stream",
     "text": [
      "Given linked list\n",
      "85 15 4 20 \n",
      "Reversed linked list after recursive method\n",
      "20 4 15 85 \n",
      "Reversed linked list after ibterative method\n",
      "85 15 4 20 \n"
     ]
    }
   ],
   "source": [
    "linkedList = LinkedList()\n",
    "linkedList.push(20)\n",
    "linkedList.push(4)\n",
    "linkedList.push(15)\n",
    "linkedList.push(85)\n",
    " \n",
    "print(\"Given linked list\")\n",
    "print(linkedList)\n",
    " \n",
    "linkedList.head = linkedList.reverserecursive(linkedList.head)\n",
    "print(\"Reversed linked list after recursive method\")\n",
    "print(linkedList)\n",
    " \n",
    "linkedList.head=linkedList.reverseiterative()\n",
    "                                    \n",
    " \n",
    "print(\"Reversed linked list after ibterative method\")\n",
    "print(linkedList)\n",
    " "
   ]
  },
  {
   "cell_type": "code",
   "execution_count": null,
   "metadata": {},
   "outputs": [],
   "source": []
  }
 ],
 "metadata": {
  "kernelspec": {
   "display_name": "Python 3",
   "language": "python",
   "name": "python3"
  },
  "language_info": {
   "codemirror_mode": {
    "name": "ipython",
    "version": 3
   },
   "file_extension": ".py",
   "mimetype": "text/x-python",
   "name": "python",
   "nbconvert_exporter": "python",
   "pygments_lexer": "ipython3",
   "version": "3.8.3"
  }
 },
 "nbformat": 4,
 "nbformat_minor": 4
}
